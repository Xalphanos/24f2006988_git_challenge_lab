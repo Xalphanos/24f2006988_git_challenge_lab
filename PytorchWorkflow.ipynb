{
  "nbformat": 4,
  "nbformat_minor": 0,
  "metadata": {
    "colab": {
      "provenance": [],
      "authorship_tag": "ABX9TyPhjoGzxSIsNGJhzMjh2OEs",
      "include_colab_link": true
    },
    "kernelspec": {
      "name": "python3",
      "display_name": "Python 3"
    },
    "language_info": {
      "name": "python"
    }
  },
  "cells": [
    {
      "cell_type": "markdown",
      "metadata": {
        "id": "view-in-github",
        "colab_type": "text"
      },
      "source": [
        "<a href=\"https://colab.research.google.com/github/Xalphanos/24f2006988_git_challenge_lab/blob/main/PytorchWorkflow.ipynb\" target=\"_parent\"><img src=\"https://colab.research.google.com/assets/colab-badge.svg\" alt=\"Open In Colab\"/></a>"
      ]
    },
    {
      "cell_type": "markdown",
      "source": [
        "\n",
        "\n",
        "# Pytorch Workflow\n",
        " * data- prepare and build\n",
        " * build model\n",
        "* fitting model to the data present\n",
        "* that is training\n",
        "* saving and loading a model\n",
        "*  putting all of it together\n",
        "\n",
        "\n"
      ],
      "metadata": {
        "id": "R4WB2X7TZ-CQ"
      }
    },
    {
      "cell_type": "code",
      "source": [
        " import torch\n",
        " from torch import nn## the main module we will be using in this course\n",
        " import matplotlib.pyplot as plt\n",
        "\n",
        " torch.__version__"
      ],
      "metadata": {
        "id": "rREKj33XaYid",
        "colab": {
          "base_uri": "https://localhost:8080/",
          "height": 35
        },
        "outputId": "56034b40-bb4a-4dee-c350-fe3b2dbf5e17"
      },
      "execution_count": 28,
      "outputs": [
        {
          "output_type": "execute_result",
          "data": {
            "text/plain": [
              "'2.8.0+cu126'"
            ],
            "application/vnd.google.colaboratory.intrinsic+json": {
              "type": "string"
            }
          },
          "metadata": {},
          "execution_count": 28
        }
      ]
    },
    {
      "cell_type": "markdown",
      "source": [
        " ## Preparing and loading the  data we are using linear regression"
      ],
      "metadata": {
        "id": "SNy2jP_1bAte"
      }
    },
    {
      "cell_type": "code",
      "source": [
        "# Create *known* parameters\n",
        "\n",
        "weight= 0.7\n",
        "bias=0.3\n",
        "\n",
        "# create some data\n",
        "start = 0\n",
        "end =1\n",
        "step = 0.001\n",
        "X = torch.arange(start, end, step).unsqueeze(dim=1)\n",
        "y= weight * X + bias\n",
        "\n",
        "X[:10],y[:10], len(X), len(y)"
      ],
      "metadata": {
        "id": "KY8WaVgwbERl",
        "colab": {
          "base_uri": "https://localhost:8080/"
        },
        "outputId": "8f620e5a-231c-44d9-be02-0425cb9a9afa"
      },
      "execution_count": 29,
      "outputs": [
        {
          "output_type": "execute_result",
          "data": {
            "text/plain": [
              "(tensor([[0.0000],\n",
              "         [0.0010],\n",
              "         [0.0020],\n",
              "         [0.0030],\n",
              "         [0.0040],\n",
              "         [0.0050],\n",
              "         [0.0060],\n",
              "         [0.0070],\n",
              "         [0.0080],\n",
              "         [0.0090]]),\n",
              " tensor([[0.3000],\n",
              "         [0.3007],\n",
              "         [0.3014],\n",
              "         [0.3021],\n",
              "         [0.3028],\n",
              "         [0.3035],\n",
              "         [0.3042],\n",
              "         [0.3049],\n",
              "         [0.3056],\n",
              "         [0.3063]]),\n",
              " 1000,\n",
              " 1000)"
            ]
          },
          "metadata": {},
          "execution_count": 29
        }
      ]
    },
    {
      "cell_type": "code",
      "source": [
        "len(X), len(y)"
      ],
      "metadata": {
        "id": "IQCrJxwgmWVx",
        "colab": {
          "base_uri": "https://localhost:8080/"
        },
        "outputId": "e6867168-c3f6-439d-f70d-ee268cbed3fb"
      },
      "execution_count": 30,
      "outputs": [
        {
          "output_type": "execute_result",
          "data": {
            "text/plain": [
              "(1000, 1000)"
            ]
          },
          "metadata": {},
          "execution_count": 30
        }
      ]
    },
    {
      "cell_type": "markdown",
      "source": [
        "### splitting data into training and test data sets extremely important in learning pytorch\n",
        "* training set= 60 percent of the data and that is mandatory\n",
        "* validation = 10 to 20 percent , its like the mock test nit mandatory but its like good to have\n",
        "* testing set= we test the model compated to this data- important\n"
      ],
      "metadata": {
        "id": "WxGvbW46nyUI"
      }
    },
    {
      "cell_type": "code",
      "source": [
        "# create a train test split\n",
        "\n",
        "train_split= int(0.8 * len(X))\n",
        "\n",
        "X_train, y_train= X[:train_split], y[:train_split]\n",
        "X_test, y_test=X[train_split:], y[train_split:]\n",
        "\n",
        "len(X_train), len(y_train), len(X_test), len(y_test)"
      ],
      "metadata": {
        "id": "48_yVMWQn5du",
        "colab": {
          "base_uri": "https://localhost:8080/"
        },
        "outputId": "365e37ea-e66f-4693-a57c-c946cf2cd563"
      },
      "execution_count": 31,
      "outputs": [
        {
          "output_type": "execute_result",
          "data": {
            "text/plain": [
              "(800, 800, 200, 200)"
            ]
          },
          "metadata": {},
          "execution_count": 31
        }
      ]
    },
    {
      "cell_type": "code",
      "source": [
        "def plot_predictions( train_data = X_train,\n",
        "                      train_labels=y_train,\n",
        "                      test_data=X_test,\n",
        "                      test_labels=y_test,\n",
        "                      predictions=None):\n",
        "#training the data we are making the plots\n",
        "\n",
        "  plt.figure(figsize=(10,7))\n",
        "\n",
        "# plot training data in blue\n",
        "  plt.scatter(train_data, train_labels, c=\"b\", s=4, label= \"Training data\")\n",
        "\n",
        " # plot test data in green\n",
        "  plt.scatter(test_data,test_labels,c=\"g\",s=4, label=\"test data\")\n",
        "\n",
        "  if predictions is not None:\n",
        "    plt.scatter(test_data,predictions,c=\"r\",s=4,label=\"Predictions\")\n",
        "  plt.legend(prop={\"size\": 14});\n"
      ],
      "metadata": {
        "id": "wDSMDtPJq_uD"
      },
      "execution_count": 32,
      "outputs": []
    },
    {
      "cell_type": "code",
      "source": [
        "plot_predictions();"
      ],
      "metadata": {
        "id": "EErUeh2HuD9o",
        "colab": {
          "base_uri": "https://localhost:8080/",
          "height": 599
        },
        "outputId": "a5e17a4e-04e4-4ecf-abf2-573b52b7c00f"
      },
      "execution_count": 33,
      "outputs": [
        {
          "output_type": "display_data",
          "data": {
            "text/plain": [
              "<Figure size 1000x700 with 1 Axes>"
            ],
            "image/png": "[encoded data removed]"
          },
          "metadata": {}
        }
      ]
    },
    {
      "cell_type": "markdown",
      "source": [
        "# Yaay we are now actuallt making the model\n",
        "\n",
        "* start with random values\n",
        "* look at training data then adjust to get closer to ideal vales\n",
        "\n",
        "# method\n",
        "* gradient descent\n",
        "* backpropagation"
      ],
      "metadata": {
        "id": "O8n5JJeip8DK"
      }
    },
    {
      "cell_type": "code",
      "source": [
        "# building model\n",
        "from torch import nn\n",
        "# create linear regressuion model class\n",
        "\n",
        "class LinearRegressionModel(nn.Module):# inhereits rom this very importent module\n",
        "  def __init__(self) -> None:\n",
        "    super().__init__()\n",
        "    self.weights=nn.Parameter(torch.randn(1,\n",
        "                                         requires_grad=True,\n",
        "                                         dtype=torch.float))\n",
        "\n",
        "    self.bias=nn.Parameter(torch.randn(1,\n",
        "                                       requires_grad=True,\n",
        "                                       dtype=torch.float))\n",
        "  def forward(self, x: torch.Tensor) -> torch.Tensor:# x is the input data\n",
        "    return self.weights*x + self.bias # this is the linear regression formula that we discussed\n",
        "\n",
        "\n",
        "\n",
        "\n"
      ],
      "metadata": {
        "id": "QFy2fAeTqADx"
      },
      "execution_count": 34,
      "outputs": []
    },
    {
      "cell_type": "markdown",
      "source": [
        "# As we have Now initialised the model now we want to check the contents of the model"
      ],
      "metadata": {
        "id": "iAZ46rvebqMf"
      }
    },
    {
      "cell_type": "code",
      "source": [
        "# creating a random seed to get the same random value\n",
        "torch.manual_seed(42)\n",
        "\n",
        "# create an single instance of the model\n",
        "model_first=LinearRegressionModel()\n",
        "\n",
        "#Check out the parameters\n",
        "list(model_first.parameters())"
      ],
      "metadata": {
        "id": "wf529Z1jbwtr",
        "colab": {
          "base_uri": "https://localhost:8080/"
        },
        "outputId": "18c1f65e-5f2c-4b4d-f6fd-4a29a6a14e39"
      },
      "execution_count": 35,
      "outputs": [
        {
          "output_type": "execute_result",
          "data": {
            "text/plain": [
              "[Parameter containing:\n",
              " tensor([0.3367], requires_grad=True),\n",
              " Parameter containing:\n",
              " tensor([0.1288], requires_grad=True)]"
            ]
          },
          "metadata": {},
          "execution_count": 35
        }
      ]
    },
    {
      "cell_type": "code",
      "source": [
        "model_first.state_dict()"
      ],
      "metadata": {
        "id": "RLFy1hqGcLYv",
        "colab": {
          "base_uri": "https://localhost:8080/"
        },
        "outputId": "59ce6af5-69cc-405f-abc3-5fee27e6f6fc"
      },
      "execution_count": 36,
      "outputs": [
        {
          "output_type": "execute_result",
          "data": {
            "text/plain": [
              "OrderedDict([('weights', tensor([0.3367])), ('bias', tensor([0.1288]))])"
            ]
          },
          "metadata": {},
          "execution_count": 36
        }
      ]
    },
    {
      "cell_type": "markdown",
      "source": [
        "# Making prediction using torch.inference_mode()\n",
        "\n",
        "Now we are checking the model's inference data\n",
        "when we pass data through our model, its going through the forward() method\n"
      ],
      "metadata": {
        "id": "i0ZddSQfdZwI"
      }
    },
    {
      "cell_type": "code",
      "source": [
        "# Make predictions with model\n",
        "\n",
        "with torch.inference_mode():\n",
        "  y_preds=model_first(X_test)\n",
        "\n",
        "with torch.no_grad():# inference mode is preferred\n",
        "  y_preds=model_first(X_test)"
      ],
      "metadata": {
        "id": "dsN9Qt_adp8s"
      },
      "execution_count": 37,
      "outputs": []
    },
    {
      "cell_type": "code",
      "source": [
        "plot_predictions(predictions=y_preds)"
      ],
      "metadata": {
        "id": "72C5flzjeXuU",
        "colab": {
          "base_uri": "https://localhost:8080/",
          "height": 599
        },
        "outputId": "46dbd86b-ce81-4945-8a39-96d70f96e9aa"
      },
      "execution_count": 38,
      "outputs": [
        {
          "output_type": "display_data",
          "data": {
            "text/plain": [
              "<Figure size 1000x700 with 1 Axes>"
            ],
            "image/png": "[encoded data removed]"
          },
          "metadata": {}
        }
      ]
    },
    {
      "cell_type": "markdown",
      "source": [
        "# loss function to measure how far the current movel is from the ideal output, there are many pytorch loss functions and we are currently explloring them\n",
        "\n",
        "\n",
        "* lower the loss function the better it is\n",
        "* optimiser  adjusts the function according to the loss to adjust the model better for what we actually want as the output"
      ],
      "metadata": {
        "id": "D4E1hxprPwel"
      }
    },
    {
      "cell_type": "code",
      "source": [
        "list(model_first.parameters())"
      ],
      "metadata": {
        "id": "KJZm09R1P8NL",
        "colab": {
          "base_uri": "https://localhost:8080/"
        },
        "outputId": "14c40db9-17c1-40bf-d70e-1c35c4a19096"
      },
      "execution_count": 39,
      "outputs": [
        {
          "output_type": "execute_result",
          "data": {
            "text/plain": [
              "[Parameter containing:\n",
              " tensor([0.3367], requires_grad=True),\n",
              " Parameter containing:\n",
              " tensor([0.1288], requires_grad=True)]"
            ]
          },
          "metadata": {},
          "execution_count": 39
        }
      ]
    },
    {
      "cell_type": "code",
      "source": [
        "model_first.state_dict()"
      ],
      "metadata": {
        "id": "xyqrvfSHQlDO",
        "colab": {
          "base_uri": "https://localhost:8080/"
        },
        "outputId": "007e50c3-2c14-44e1-de60-118da3a270ed"
      },
      "execution_count": 40,
      "outputs": [
        {
          "output_type": "execute_result",
          "data": {
            "text/plain": [
              "OrderedDict([('weights', tensor([0.3367])), ('bias', tensor([0.1288]))])"
            ]
          },
          "metadata": {},
          "execution_count": 40
        }
      ]
    },
    {
      "cell_type": "code",
      "source": [
        "# setting up the loss function\n",
        "loss_fn=nn.L1Loss()\n",
        "\n",
        "# setting up the optimiser(STD stochiastic gradient descent)\n",
        "optimiser= torch.optim.SGD(params=model_first.parameters(),\n",
        "                           lr=0.0001)\n"
      ],
      "metadata": {
        "id": "UAmlGno9Qo9t"
      },
      "execution_count": 41,
      "outputs": []
    },
    {
      "cell_type": "markdown",
      "source": [
        "#building the training loop(and testing loop) in pytorch\n",
        "\n",
        "0. loop through the data\n",
        "1. forward pass to make predictions about the data\n",
        "2. Calculate then loss\n",
        "3. Optimiser zero grad\n",
        "4. Loss backward - move backwards thorugh the network to calculate the gradients of each of the parameters of our model with respect to the loss\n",
        "5. optimiser step - use optimiser to adjust model's parameters to try and lessen the loss"
      ],
      "metadata": {
        "id": "JnheVTloVmpB"
      }
    },
    {
      "cell_type": "code",
      "source": [
        "model_first.state_dict()\n"
      ],
      "metadata": {
        "id": "WfgjR2JHnWua",
        "colab": {
          "base_uri": "https://localhost:8080/"
        },
        "outputId": "830add3f-09b4-4a9d-d8e7-9100e122aceb"
      },
      "execution_count": 42,
      "outputs": [
        {
          "output_type": "execute_result",
          "data": {
            "text/plain": [
              "OrderedDict([('weights', tensor([0.3367])), ('bias', tensor([0.1288]))])"
            ]
          },
          "metadata": {},
          "execution_count": 42
        }
      ]
    },
    {
      "cell_type": "code",
      "source": [
        "weight,bias"
      ],
      "metadata": {
        "id": "gPX5WpMq9e_S",
        "colab": {
          "base_uri": "https://localhost:8080/"
        },
        "outputId": "197dc127-2070-4e4f-a001-693703dcb4d9"
      },
      "execution_count": 43,
      "outputs": [
        {
          "output_type": "execute_result",
          "data": {
            "text/plain": [
              "(0.7, 0.3)"
            ]
          },
          "metadata": {},
          "execution_count": 43
        }
      ]
    },
    {
      "cell_type": "markdown",
      "source": [
        "# we will be graphing it"
      ],
      "metadata": {
        "id": "AqBFHQyv-6vc"
      }
    },
    {
      "cell_type": "code",
      "source": [
        "with torch.inference_mode():\n",
        "  y_preds_new=model_first(X_test)\n"
      ],
      "metadata": {
        "id": "aeHyisBg-8TY"
      },
      "execution_count": 44,
      "outputs": []
    },
    {
      "cell_type": "code",
      "source": [
        "plot_predictions(predictions=y_preds_new)"
      ],
      "metadata": {
        "colab": {
          "base_uri": "https://localhost:8080/",
          "height": 599
        },
        "id": "3FQVphKi_Fjo",
        "outputId": "26754cf6-6b88-438b-f888-8df5c9fb2ca9"
      },
      "execution_count": 45,
      "outputs": [
        {
          "output_type": "display_data",
          "data": {
            "text/plain": [
              "<Figure size 1000x700 with 1 Axes>"
            ],
            "image/png": "[encoded data removed]"
          },
          "metadata": {}
        }
      ]
    },
    {
      "cell_type": "code",
      "source": [
        "# an epoch is 1 loop thoguh the data\n",
        "torch.manual_seed(42)\n",
        "epochs =12000\n",
        "\n",
        "#track different values\n",
        "epoch_count=[]\n",
        "loss_values=[]\n",
        "test_loss_values=[]\n",
        "\n",
        "# loop\n",
        "for epoch in range(epochs):\n",
        "\n",
        "  #set the model to training model\n",
        "  model_first.train()# train model in pytorch sets all parameters that requires gradients to make it require gradient\n",
        "\n",
        "  # taking the forward_ pass\n",
        "  y_pred=model_first(X_train)\n",
        "\n",
        "\n",
        "  #calculate the loss using the losss function\n",
        "  loss=loss_fn(y_pred,y_train)\n",
        "\n",
        "  #optimizer ero grad\n",
        "  optimiser.zero_grad()\n",
        "\n",
        "  #perform backpropagation on the loss with respect to the parameters of the model\n",
        "  loss.backward()\n",
        "\n",
        "  #/Step the optimiser(perform the actual gradient descent)\n",
        "  optimiser.step() # by default how the optimiser changes will accumulate through the loop .. so we have to zero thenm before step 3\n",
        "\n",
        "  model_first.eval() # turns of gradient tracking\n",
        "\n",
        "\n",
        "  with torch.inference_mode():\n",
        "\n",
        "    test_pred=model_first(X_test)\n",
        "\n",
        "    test_loss=loss_fn(test_pred,y_test)\n",
        "  if epoch %100 == 0:\n",
        "    epoch_count.append(epoch)\n",
        "    loss_values.append(loss.item())\n",
        "    test_loss_values.append(test_loss.item())\n",
        "\n",
        "\n",
        "    print(f\"Epoch;{epoch} | test : {loss} | test loss {test_loss}\")\n",
        "    print(model_first.state_dict())\n",
        "  #with torch.no_grad(): same as above but used in older versions\n"
      ],
      "metadata": {
        "id": "G7cfoL0QWKkJ",
        "colab": {
          "base_uri": "https://localhost:8080/"
        },
        "outputId": "4f3eab8a-bc4c-4ddd-84a0-14281e75683f"
      },
      "execution_count": 46,
      "outputs": [
        {
          "output_type": "stream",
          "name": "stdout",
          "text": [
            "Epoch;0 | test : 0.31633278727531433 | test loss 0.4978516697883606\n",
            "OrderedDict({'weights': tensor([0.3367]), 'bias': tensor([0.1289])})\n",
            "Epoch;100 | test : 0.3047372102737427 | test loss 0.48425936698913574\n",
            "OrderedDict({'weights': tensor([0.3407]), 'bias': tensor([0.1389])})\n",
            "Epoch;200 | test : 0.2931416630744934 | test loss 0.4706670045852661\n",
            "OrderedDict({'weights': tensor([0.3447]), 'bias': tensor([0.1489])})\n",
            "Epoch;300 | test : 0.28154608607292175 | test loss 0.45707467198371887\n",
            "OrderedDict({'weights': tensor([0.3487]), 'bias': tensor([0.1589])})\n",
            "Epoch;400 | test : 0.2699504792690277 | test loss 0.443482369184494\n",
            "OrderedDict({'weights': tensor([0.3527]), 'bias': tensor([0.1689])})\n",
            "Epoch;500 | test : 0.25835490226745605 | test loss 0.4298900365829468\n",
            "OrderedDict({'weights': tensor([0.3567]), 'bias': tensor([0.1789])})\n",
            "Epoch;600 | test : 0.2467593401670456 | test loss 0.4162977337837219\n",
            "OrderedDict({'weights': tensor([0.3607]), 'bias': tensor([0.1889])})\n",
            "Epoch;700 | test : 0.23516376316547394 | test loss 0.4027053415775299\n",
            "OrderedDict({'weights': tensor([0.3647]), 'bias': tensor([0.1989])})\n",
            "Epoch;800 | test : 0.2235681712627411 | test loss 0.38911300897598267\n",
            "OrderedDict({'weights': tensor([0.3687]), 'bias': tensor([0.2089])})\n",
            "Epoch;900 | test : 0.21197259426116943 | test loss 0.3755207061767578\n",
            "OrderedDict({'weights': tensor([0.3727]), 'bias': tensor([0.2189])})\n",
            "Epoch;1000 | test : 0.20037703216075897 | test loss 0.36192837357521057\n",
            "OrderedDict({'weights': tensor([0.3767]), 'bias': tensor([0.2289])})\n",
            "Epoch;1100 | test : 0.18878145515918732 | test loss 0.34833604097366333\n",
            "OrderedDict({'weights': tensor([0.3807]), 'bias': tensor([0.2389])})\n",
            "Epoch;1200 | test : 0.17718589305877686 | test loss 0.3347436785697937\n",
            "OrderedDict({'weights': tensor([0.3847]), 'bias': tensor([0.2489])})\n",
            "Epoch;1300 | test : 0.16559162735939026 | test loss 0.3211527168750763\n",
            "OrderedDict({'weights': tensor([0.3886]), 'bias': tensor([0.2589])})\n",
            "Epoch;1400 | test : 0.153997540473938 | test loss 0.30756187438964844\n",
            "OrderedDict({'weights': tensor([0.3926]), 'bias': tensor([0.2689])})\n",
            "Epoch;1500 | test : 0.14240343868732452 | test loss 0.2939710319042206\n",
            "OrderedDict({'weights': tensor([0.3966]), 'bias': tensor([0.2789])})\n",
            "Epoch;1600 | test : 0.13080936670303345 | test loss 0.28038015961647034\n",
            "OrderedDict({'weights': tensor([0.4006]), 'bias': tensor([0.2889])})\n",
            "Epoch;1700 | test : 0.11921527981758118 | test loss 0.2667893171310425\n",
            "OrderedDict({'weights': tensor([0.4046]), 'bias': tensor([0.2989])})\n",
            "Epoch;1800 | test : 0.10827067494392395 | test loss 0.25353801250457764\n",
            "OrderedDict({'weights': tensor([0.4086]), 'bias': tensor([0.3086])})\n",
            "Epoch;1900 | test : 0.09882619231939316 | test loss 0.2411058098077774\n",
            "OrderedDict({'weights': tensor([0.4126]), 'bias': tensor([0.3174])})\n",
            "Epoch;2000 | test : 0.09070628136396408 | test loss 0.22947317361831665\n",
            "OrderedDict({'weights': tensor([0.4165]), 'bias': tensor([0.3255])})\n",
            "Epoch;2100 | test : 0.08374370634555817 | test loss 0.2186119705438614\n",
            "OrderedDict({'weights': tensor([0.4204]), 'bias': tensor([0.3329])})\n",
            "Epoch;2200 | test : 0.07778847962617874 | test loss 0.20849144458770752\n",
            "OrderedDict({'weights': tensor([0.4241]), 'bias': tensor([0.3396])})\n",
            "Epoch;2300 | test : 0.07270752638578415 | test loss 0.19908082485198975\n",
            "OrderedDict({'weights': tensor([0.4278]), 'bias': tensor([0.3457])})\n",
            "Epoch;2400 | test : 0.068382129073143 | test loss 0.19034823775291443\n",
            "OrderedDict({'weights': tensor([0.4314]), 'bias': tensor([0.3512])})\n",
            "Epoch;2500 | test : 0.06470557302236557 | test loss 0.18225792050361633\n",
            "OrderedDict({'weights': tensor([0.4349]), 'bias': tensor([0.3562])})\n",
            "Epoch;2600 | test : 0.0615847110748291 | test loss 0.17477643489837646\n",
            "OrderedDict({'weights': tensor([0.4383]), 'bias': tensor([0.3606])})\n",
            "Epoch;2700 | test : 0.058936819434165955 | test loss 0.16786795854568481\n",
            "OrderedDict({'weights': tensor([0.4416]), 'bias': tensor([0.3646])})\n",
            "Epoch;2800 | test : 0.05669030547142029 | test loss 0.16149917244911194\n",
            "OrderedDict({'weights': tensor([0.4447]), 'bias': tensor([0.3681])})\n",
            "Epoch;2900 | test : 0.05478166416287422 | test loss 0.1556338369846344\n",
            "OrderedDict({'weights': tensor([0.4478]), 'bias': tensor([0.3712])})\n",
            "Epoch;3000 | test : 0.05315675586462021 | test loss 0.15023817121982574\n",
            "OrderedDict({'weights': tensor([0.4507]), 'bias': tensor([0.3740])})\n",
            "Epoch;3100 | test : 0.051768407225608826 | test loss 0.14527803659439087\n",
            "OrderedDict({'weights': tensor([0.4536]), 'bias': tensor([0.3764])})\n",
            "Epoch;3200 | test : 0.050576481968164444 | test loss 0.14072056114673615\n",
            "OrderedDict({'weights': tensor([0.4563]), 'bias': tensor([0.3785])})\n",
            "Epoch;3300 | test : 0.049547113478183746 | test loss 0.13653521239757538\n",
            "OrderedDict({'weights': tensor([0.4590]), 'bias': tensor([0.3803])})\n",
            "Epoch;3400 | test : 0.048651427030563354 | test loss 0.1326916664838791\n",
            "OrderedDict({'weights': tensor([0.4615]), 'bias': tensor([0.3818])})\n",
            "Epoch;3500 | test : 0.047865062952041626 | test loss 0.1291610598564148\n",
            "OrderedDict({'weights': tensor([0.4640]), 'bias': tensor([0.3831])})\n",
            "Epoch;3600 | test : 0.04716812074184418 | test loss 0.12591686844825745\n",
            "OrderedDict({'weights': tensor([0.4664]), 'bias': tensor([0.3842])})\n",
            "Epoch;3700 | test : 0.04654325917363167 | test loss 0.12293204665184021\n",
            "OrderedDict({'weights': tensor([0.4688]), 'bias': tensor([0.3851])})\n",
            "Epoch;3800 | test : 0.0459766611456871 | test loss 0.12018319219350815\n",
            "OrderedDict({'weights': tensor([0.4710]), 'bias': tensor([0.3858])})\n",
            "Epoch;3900 | test : 0.04545700550079346 | test loss 0.11764737963676453\n",
            "OrderedDict({'weights': tensor([0.4732]), 'bias': tensor([0.3863])})\n",
            "Epoch;4000 | test : 0.044974956661462784 | test loss 0.11530477553606033\n",
            "OrderedDict({'weights': tensor([0.4754]), 'bias': tensor([0.3867])})\n",
            "Epoch;4100 | test : 0.04452301934361458 | test loss 0.11313603073358536\n",
            "OrderedDict({'weights': tensor([0.4775]), 'bias': tensor([0.3870])})\n",
            "Epoch;4200 | test : 0.044095057994127274 | test loss 0.1111246645450592\n",
            "OrderedDict({'weights': tensor([0.4796]), 'bias': tensor([0.3872])})\n",
            "Epoch;4300 | test : 0.04368600994348526 | test loss 0.10925281792879105\n",
            "OrderedDict({'weights': tensor([0.4816]), 'bias': tensor([0.3872])})\n",
            "Epoch;4400 | test : 0.043291881680488586 | test loss 0.10750642418861389\n",
            "OrderedDict({'weights': tensor([0.4836]), 'bias': tensor([0.3872])})\n",
            "Epoch;4500 | test : 0.04290938377380371 | test loss 0.10587137192487717\n",
            "OrderedDict({'weights': tensor([0.4855]), 'bias': tensor([0.3870])})\n",
            "Epoch;4600 | test : 0.04253629595041275 | test loss 0.10433738678693771\n",
            "OrderedDict({'weights': tensor([0.4874]), 'bias': tensor([0.3869])})\n",
            "Epoch;4700 | test : 0.04217017814517021 | test loss 0.10288994014263153\n",
            "OrderedDict({'weights': tensor([0.4893]), 'bias': tensor([0.3866])})\n",
            "Epoch;4800 | test : 0.04180993139743805 | test loss 0.10152437537908554\n",
            "OrderedDict({'weights': tensor([0.4912]), 'bias': tensor([0.3863])})\n",
            "Epoch;4900 | test : 0.0414540097117424 | test loss 0.10022735595703125\n",
            "OrderedDict({'weights': tensor([0.4931]), 'bias': tensor([0.3859])})\n",
            "Epoch;5000 | test : 0.04110151156783104 | test loss 0.09899351745843887\n",
            "OrderedDict({'weights': tensor([0.4949]), 'bias': tensor([0.3855])})\n",
            "Epoch;5100 | test : 0.04075171798467636 | test loss 0.09781517088413239\n",
            "OrderedDict({'weights': tensor([0.4967]), 'bias': tensor([0.3850])})\n",
            "Epoch;5200 | test : 0.04040386527776718 | test loss 0.0966840386390686\n",
            "OrderedDict({'weights': tensor([0.4985]), 'bias': tensor([0.3846])})\n",
            "Epoch;5300 | test : 0.04005752131342888 | test loss 0.09559430181980133\n",
            "OrderedDict({'weights': tensor([0.5003]), 'bias': tensor([0.3840])})\n",
            "Epoch;5400 | test : 0.03971203416585922 | test loss 0.0945424735546112\n",
            "OrderedDict({'weights': tensor([0.5021]), 'bias': tensor([0.3835])})\n",
            "Epoch;5500 | test : 0.03936757892370224 | test loss 0.09352479875087738\n",
            "OrderedDict({'weights': tensor([0.5038]), 'bias': tensor([0.3829])})\n",
            "Epoch;5600 | test : 0.03902406990528107 | test loss 0.09253649413585663\n",
            "OrderedDict({'weights': tensor([0.5056]), 'bias': tensor([0.3823])})\n",
            "Epoch;5700 | test : 0.03868115320801735 | test loss 0.09157128632068634\n",
            "OrderedDict({'weights': tensor([0.5073]), 'bias': tensor([0.3817])})\n",
            "Epoch;5800 | test : 0.03833876550197601 | test loss 0.09063158929347992\n",
            "OrderedDict({'weights': tensor([0.5091]), 'bias': tensor([0.3811])})\n",
            "Epoch;5900 | test : 0.037996236234903336 | test loss 0.08971000462770462\n",
            "OrderedDict({'weights': tensor([0.5108]), 'bias': tensor([0.3805])})\n",
            "Epoch;6000 | test : 0.037653613835573196 | test loss 0.08879951387643814\n",
            "OrderedDict({'weights': tensor([0.5126]), 'bias': tensor([0.3798])})\n",
            "Epoch;6100 | test : 0.037311311811208725 | test loss 0.08790597319602966\n",
            "OrderedDict({'weights': tensor([0.5143]), 'bias': tensor([0.3791])})\n",
            "Epoch;6200 | test : 0.03696935251355171 | test loss 0.08703003078699112\n",
            "OrderedDict({'weights': tensor([0.5160]), 'bias': tensor([0.3785])})\n",
            "Epoch;6300 | test : 0.036627396941185 | test loss 0.08615412563085556\n",
            "OrderedDict({'weights': tensor([0.5177]), 'bias': tensor([0.3778])})\n",
            "Epoch;6400 | test : 0.03628559038043022 | test loss 0.08529622107744217\n",
            "OrderedDict({'weights': tensor([0.5194]), 'bias': tensor([0.3771])})\n",
            "Epoch;6500 | test : 0.03594394773244858 | test loss 0.08445783704519272\n",
            "OrderedDict({'weights': tensor([0.5212]), 'bias': tensor([0.3764])})\n",
            "Epoch;6600 | test : 0.03560230880975723 | test loss 0.08361946046352386\n",
            "OrderedDict({'weights': tensor([0.5229]), 'bias': tensor([0.3757])})\n",
            "Epoch;6700 | test : 0.03526066616177559 | test loss 0.08278108388185501\n",
            "OrderedDict({'weights': tensor([0.5246]), 'bias': tensor([0.3750])})\n",
            "Epoch;6800 | test : 0.034919027239084244 | test loss 0.08194269984960556\n",
            "OrderedDict({'weights': tensor([0.5263]), 'bias': tensor([0.3743])})\n",
            "Epoch;6900 | test : 0.0345773845911026 | test loss 0.0811043232679367\n",
            "OrderedDict({'weights': tensor([0.5280]), 'bias': tensor([0.3736])})\n",
            "Epoch;7000 | test : 0.034236036241054535 | test loss 0.08029308170080185\n",
            "OrderedDict({'weights': tensor([0.5297]), 'bias': tensor([0.3729])})\n",
            "Epoch;7100 | test : 0.033894773572683334 | test loss 0.07948926091194153\n",
            "OrderedDict({'weights': tensor([0.5314]), 'bias': tensor([0.3722])})\n",
            "Epoch;7200 | test : 0.033553510904312134 | test loss 0.0786854550242424\n",
            "OrderedDict({'weights': tensor([0.5331]), 'bias': tensor([0.3714])})\n",
            "Epoch;7300 | test : 0.03321224823594093 | test loss 0.07788163423538208\n",
            "OrderedDict({'weights': tensor([0.5348]), 'bias': tensor([0.3707])})\n",
            "Epoch;7400 | test : 0.03287098556756973 | test loss 0.07707782834768295\n",
            "OrderedDict({'weights': tensor([0.5365]), 'bias': tensor([0.3700])})\n",
            "Epoch;7500 | test : 0.03252972289919853 | test loss 0.07627401500940323\n",
            "OrderedDict({'weights': tensor([0.5382]), 'bias': tensor([0.3693])})\n",
            "Epoch;7600 | test : 0.03218845650553703 | test loss 0.0754702016711235\n",
            "OrderedDict({'weights': tensor([0.5399]), 'bias': tensor([0.3685])})\n",
            "Epoch;7700 | test : 0.03184719383716583 | test loss 0.07466638833284378\n",
            "OrderedDict({'weights': tensor([0.5416]), 'bias': tensor([0.3678])})\n",
            "Epoch;7800 | test : 0.03150593116879463 | test loss 0.07386257499456406\n",
            "OrderedDict({'weights': tensor([0.5433]), 'bias': tensor([0.3671])})\n",
            "Epoch;7900 | test : 0.03116466850042343 | test loss 0.07305876165628433\n",
            "OrderedDict({'weights': tensor([0.5450]), 'bias': tensor([0.3664])})\n",
            "Epoch;8000 | test : 0.03082340396940708 | test loss 0.0722549557685852\n",
            "OrderedDict({'weights': tensor([0.5467]), 'bias': tensor([0.3656])})\n",
            "Epoch;8100 | test : 0.03048214130103588 | test loss 0.07145112752914429\n",
            "OrderedDict({'weights': tensor([0.5484]), 'bias': tensor([0.3649])})\n",
            "Epoch;8200 | test : 0.03014087863266468 | test loss 0.07064732909202576\n",
            "OrderedDict({'weights': tensor([0.5501]), 'bias': tensor([0.3642])})\n",
            "Epoch;8300 | test : 0.02979961596429348 | test loss 0.06984350830316544\n",
            "OrderedDict({'weights': tensor([0.5518]), 'bias': tensor([0.3635])})\n",
            "Epoch;8400 | test : 0.02945835329592228 | test loss 0.06903969496488571\n",
            "OrderedDict({'weights': tensor([0.5535]), 'bias': tensor([0.3628])})\n",
            "Epoch;8500 | test : 0.02911708876490593 | test loss 0.06823587417602539\n",
            "OrderedDict({'weights': tensor([0.5552]), 'bias': tensor([0.3620])})\n",
            "Epoch;8600 | test : 0.02877582609653473 | test loss 0.06743206828832626\n",
            "OrderedDict({'weights': tensor([0.5569]), 'bias': tensor([0.3613])})\n",
            "Epoch;8700 | test : 0.02843456342816353 | test loss 0.06662825495004654\n",
            "OrderedDict({'weights': tensor([0.5586]), 'bias': tensor([0.3606])})\n",
            "Epoch;8800 | test : 0.02809329703450203 | test loss 0.06582444161176682\n",
            "OrderedDict({'weights': tensor([0.5603]), 'bias': tensor([0.3599])})\n",
            "Epoch;8900 | test : 0.02775203436613083 | test loss 0.06502062827348709\n",
            "OrderedDict({'weights': tensor([0.5620]), 'bias': tensor([0.3591])})\n",
            "Epoch;9000 | test : 0.02741077169775963 | test loss 0.06421682238578796\n",
            "OrderedDict({'weights': tensor([0.5637]), 'bias': tensor([0.3584])})\n",
            "Epoch;9100 | test : 0.027069510892033577 | test loss 0.06341300159692764\n",
            "OrderedDict({'weights': tensor([0.5654]), 'bias': tensor([0.3577])})\n",
            "Epoch;9200 | test : 0.026728246361017227 | test loss 0.06260918825864792\n",
            "OrderedDict({'weights': tensor([0.5671]), 'bias': tensor([0.3570])})\n",
            "Epoch;9300 | test : 0.026386981830000877 | test loss 0.061805371195077896\n",
            "OrderedDict({'weights': tensor([0.5688]), 'bias': tensor([0.3562])})\n",
            "Epoch;9400 | test : 0.026045717298984528 | test loss 0.06100155785679817\n",
            "OrderedDict({'weights': tensor([0.5705]), 'bias': tensor([0.3555])})\n",
            "Epoch;9500 | test : 0.025704454630613327 | test loss 0.06019774451851845\n",
            "OrderedDict({'weights': tensor([0.5722]), 'bias': tensor([0.3548])})\n",
            "Epoch;9600 | test : 0.025363191962242126 | test loss 0.05939393863081932\n",
            "OrderedDict({'weights': tensor([0.5739]), 'bias': tensor([0.3541])})\n",
            "Epoch;9700 | test : 0.025021929293870926 | test loss 0.0585901252925396\n",
            "OrderedDict({'weights': tensor([0.5756]), 'bias': tensor([0.3533])})\n",
            "Epoch;9800 | test : 0.024680666625499725 | test loss 0.057786308228969574\n",
            "OrderedDict({'weights': tensor([0.5773]), 'bias': tensor([0.3526])})\n",
            "Epoch;9900 | test : 0.024339403957128525 | test loss 0.05698249489068985\n",
            "OrderedDict({'weights': tensor([0.5790]), 'bias': tensor([0.3519])})\n",
            "Epoch;10000 | test : 0.023998141288757324 | test loss 0.056178685277700424\n",
            "OrderedDict({'weights': tensor([0.5807]), 'bias': tensor([0.3512])})\n",
            "Epoch;10100 | test : 0.023656873032450676 | test loss 0.055374860763549805\n",
            "OrderedDict({'weights': tensor([0.5824]), 'bias': tensor([0.3504])})\n",
            "Epoch;10200 | test : 0.023315615952014923 | test loss 0.05457105487585068\n",
            "OrderedDict({'weights': tensor([0.5841]), 'bias': tensor([0.3497])})\n",
            "Epoch;10300 | test : 0.022974353283643723 | test loss 0.053767237812280655\n",
            "OrderedDict({'weights': tensor([0.5858]), 'bias': tensor([0.3490])})\n",
            "Epoch;10400 | test : 0.022633086889982224 | test loss 0.05296342819929123\n",
            "OrderedDict({'weights': tensor([0.5875]), 'bias': tensor([0.3483])})\n",
            "Epoch;10500 | test : 0.022291822358965874 | test loss 0.05215961113572121\n",
            "OrderedDict({'weights': tensor([0.5892]), 'bias': tensor([0.3475])})\n",
            "Epoch;10600 | test : 0.021950561553239822 | test loss 0.05135580152273178\n",
            "OrderedDict({'weights': tensor([0.5909]), 'bias': tensor([0.3468])})\n",
            "Epoch;10700 | test : 0.02160930074751377 | test loss 0.050553083419799805\n",
            "OrderedDict({'weights': tensor([0.5926]), 'bias': tensor([0.3461])})\n",
            "Epoch;10800 | test : 0.021268047392368317 | test loss 0.04975453019142151\n",
            "OrderedDict({'weights': tensor([0.5943]), 'bias': tensor([0.3454])})\n",
            "Epoch;10900 | test : 0.02092679962515831 | test loss 0.04895634204149246\n",
            "OrderedDict({'weights': tensor([0.5959]), 'bias': tensor([0.3446])})\n",
            "Epoch;11000 | test : 0.020585546270012856 | test loss 0.048157788813114166\n",
            "OrderedDict({'weights': tensor([0.5976]), 'bias': tensor([0.3439])})\n",
            "Epoch;11100 | test : 0.02024429477751255 | test loss 0.04735923185944557\n",
            "OrderedDict({'weights': tensor([0.5993]), 'bias': tensor([0.3432])})\n",
            "Epoch;11200 | test : 0.019903047010302544 | test loss 0.04656098783016205\n",
            "OrderedDict({'weights': tensor([0.6010]), 'bias': tensor([0.3425])})\n",
            "Epoch;11300 | test : 0.01956179551780224 | test loss 0.04576243460178375\n",
            "OrderedDict({'weights': tensor([0.6027]), 'bias': tensor([0.3417])})\n",
            "Epoch;11400 | test : 0.019220545887947083 | test loss 0.04496387019753456\n",
            "OrderedDict({'weights': tensor([0.6044]), 'bias': tensor([0.3410])})\n",
            "Epoch;11500 | test : 0.018879292532801628 | test loss 0.044165320694446564\n",
            "OrderedDict({'weights': tensor([0.6061]), 'bias': tensor([0.3403])})\n",
            "Epoch;11600 | test : 0.018538041040301323 | test loss 0.043367136269807816\n",
            "OrderedDict({'weights': tensor([0.6078]), 'bias': tensor([0.3395])})\n",
            "Epoch;11700 | test : 0.018196789547801018 | test loss 0.04256858304142952\n",
            "OrderedDict({'weights': tensor([0.6095]), 'bias': tensor([0.3388])})\n",
            "Epoch;11800 | test : 0.01785554178059101 | test loss 0.04176996275782585\n",
            "OrderedDict({'weights': tensor([0.6112]), 'bias': tensor([0.3381])})\n",
            "Epoch;11900 | test : 0.017514290288090706 | test loss 0.0409717783331871\n",
            "OrderedDict({'weights': tensor([0.6129]), 'bias': tensor([0.3374])})\n"
          ]
        }
      ]
    },
    {
      "cell_type": "code",
      "source": [
        "import numpy as np\n",
        "np.array(torch.tensor(loss_values).cpu().numpy()), test_loss_values"
      ],
      "metadata": {
        "colab": {
          "base_uri": "https://localhost:8080/"
        },
        "id": "TfOgBxfmyTgh",
        "outputId": "4ac28085-cc37-4412-ed94-176498c09edd"
      },
      "execution_count": 47,
      "outputs": [
        {
          "output_type": "execute_result",
          "data": {
            "text/plain": [
              "(array([0.3163328 , 0.3047372 , 0.29314166, 0.2815461 , 0.26995048,\n",
              "        0.2583549 , 0.24675934, 0.23516376, 0.22356817, 0.2119726 ,\n",
              "        0.20037703, 0.18878146, 0.1771859 , 0.16559163, 0.15399754,\n",
              "        0.14240344, 0.13080937, 0.11921528, 0.10827067, 0.09882619,\n",
              "        0.09070628, 0.08374371, 0.07778848, 0.07270753, 0.06838213,\n",
              "        0.06470557, 0.06158471, 0.05893682, 0.05669031, 0.05478166,\n",
              "        0.05315676, 0.05176841, 0.05057648, 0.04954711, 0.04865143,\n",
              "        0.04786506, 0.04716812, 0.04654326, 0.04597666, 0.04545701,\n",
              "        0.04497496, 0.04452302, 0.04409506, 0.04368601, 0.04329188,\n",
              "        0.04290938, 0.0425363 , 0.04217018, 0.04180993, 0.04145401,\n",
              "        0.04110151, 0.04075172, 0.04040387, 0.04005752, 0.03971203,\n",
              "        0.03936758, 0.03902407, 0.03868115, 0.03833877, 0.03799624,\n",
              "        0.03765361, 0.03731131, 0.03696935, 0.0366274 , 0.03628559,\n",
              "        0.03594395, 0.03560231, 0.03526067, 0.03491903, 0.03457738,\n",
              "        0.03423604, 0.03389477, 0.03355351, 0.03321225, 0.03287099,\n",
              "        0.03252972, 0.03218846, 0.03184719, 0.03150593, 0.03116467,\n",
              "        0.0308234 , 0.03048214, 0.03014088, 0.02979962, 0.02945835,\n",
              "        0.02911709, 0.02877583, 0.02843456, 0.0280933 , 0.02775203,\n",
              "        0.02741077, 0.02706951, 0.02672825, 0.02638698, 0.02604572,\n",
              "        0.02570445, 0.02536319, 0.02502193, 0.02468067, 0.0243394 ,\n",
              "        0.02399814, 0.02365687, 0.02331562, 0.02297435, 0.02263309,\n",
              "        0.02229182, 0.02195056, 0.0216093 , 0.02126805, 0.0209268 ,\n",
              "        0.02058555, 0.02024429, 0.01990305, 0.0195618 , 0.01922055,\n",
              "        0.01887929, 0.01853804, 0.01819679, 0.01785554, 0.01751429],\n",
              "       dtype=float32),\n",
              " [0.4978516697883606,\n",
              "  0.48425936698913574,\n",
              "  0.4706670045852661,\n",
              "  0.45707467198371887,\n",
              "  0.443482369184494,\n",
              "  0.4298900365829468,\n",
              "  0.4162977337837219,\n",
              "  0.4027053415775299,\n",
              "  0.38911300897598267,\n",
              "  0.3755207061767578,\n",
              "  0.36192837357521057,\n",
              "  0.34833604097366333,\n",
              "  0.3347436785697937,\n",
              "  0.3211527168750763,\n",
              "  0.30756187438964844,\n",
              "  0.2939710319042206,\n",
              "  0.28038015961647034,\n",
              "  0.2667893171310425,\n",
              "  0.25353801250457764,\n",
              "  0.2411058098077774,\n",
              "  0.22947317361831665,\n",
              "  0.2186119705438614,\n",
              "  0.20849144458770752,\n",
              "  0.19908082485198975,\n",
              "  0.19034823775291443,\n",
              "  0.18225792050361633,\n",
              "  0.17477643489837646,\n",
              "  0.16786795854568481,\n",
              "  0.16149917244911194,\n",
              "  0.1556338369846344,\n",
              "  0.15023817121982574,\n",
              "  0.14527803659439087,\n",
              "  0.14072056114673615,\n",
              "  0.13653521239757538,\n",
              "  0.1326916664838791,\n",
              "  0.1291610598564148,\n",
              "  0.12591686844825745,\n",
              "  0.12293204665184021,\n",
              "  0.12018319219350815,\n",
              "  0.11764737963676453,\n",
              "  0.11530477553606033,\n",
              "  0.11313603073358536,\n",
              "  0.1111246645450592,\n",
              "  0.10925281792879105,\n",
              "  0.10750642418861389,\n",
              "  0.10587137192487717,\n",
              "  0.10433738678693771,\n",
              "  0.10288994014263153,\n",
              "  0.10152437537908554,\n",
              "  0.10022735595703125,\n",
              "  0.09899351745843887,\n",
              "  0.09781517088413239,\n",
              "  0.0966840386390686,\n",
              "  0.09559430181980133,\n",
              "  0.0945424735546112,\n",
              "  0.09352479875087738,\n",
              "  0.09253649413585663,\n",
              "  0.09157128632068634,\n",
              "  0.09063158929347992,\n",
              "  0.08971000462770462,\n",
              "  0.08879951387643814,\n",
              "  0.08790597319602966,\n",
              "  0.08703003078699112,\n",
              "  0.08615412563085556,\n",
              "  0.08529622107744217,\n",
              "  0.08445783704519272,\n",
              "  0.08361946046352386,\n",
              "  0.08278108388185501,\n",
              "  0.08194269984960556,\n",
              "  0.0811043232679367,\n",
              "  0.08029308170080185,\n",
              "  0.07948926091194153,\n",
              "  0.0786854550242424,\n",
              "  0.07788163423538208,\n",
              "  0.07707782834768295,\n",
              "  0.07627401500940323,\n",
              "  0.0754702016711235,\n",
              "  0.07466638833284378,\n",
              "  0.07386257499456406,\n",
              "  0.07305876165628433,\n",
              "  0.0722549557685852,\n",
              "  0.07145112752914429,\n",
              "  0.07064732909202576,\n",
              "  0.06984350830316544,\n",
              "  0.06903969496488571,\n",
              "  0.06823587417602539,\n",
              "  0.06743206828832626,\n",
              "  0.06662825495004654,\n",
              "  0.06582444161176682,\n",
              "  0.06502062827348709,\n",
              "  0.06421682238578796,\n",
              "  0.06341300159692764,\n",
              "  0.06260918825864792,\n",
              "  0.061805371195077896,\n",
              "  0.06100155785679817,\n",
              "  0.06019774451851845,\n",
              "  0.05939393863081932,\n",
              "  0.0585901252925396,\n",
              "  0.057786308228969574,\n",
              "  0.05698249489068985,\n",
              "  0.056178685277700424,\n",
              "  0.055374860763549805,\n",
              "  0.05457105487585068,\n",
              "  0.053767237812280655,\n",
              "  0.05296342819929123,\n",
              "  0.05215961113572121,\n",
              "  0.05135580152273178,\n",
              "  0.050553083419799805,\n",
              "  0.04975453019142151,\n",
              "  0.04895634204149246,\n",
              "  0.048157788813114166,\n",
              "  0.04735923185944557,\n",
              "  0.04656098783016205,\n",
              "  0.04576243460178375,\n",
              "  0.04496387019753456,\n",
              "  0.044165320694446564,\n",
              "  0.043367136269807816,\n",
              "  0.04256858304142952,\n",
              "  0.04176996275782585,\n",
              "  0.0409717783331871])"
            ]
          },
          "metadata": {},
          "execution_count": 47
        }
      ]
    },
    {
      "cell_type": "code",
      "source": [
        "plt.plot(epoch_count, loss_values, label=\"train loss\")\n",
        "plt.plot(epoch_count, test_loss_values, label=\"test loss\")\n",
        "plt.title(\"training and loss curves\")\n",
        "plt.ylabel(\"loss\")\n",
        "plt.xlabel(\"Epochs\")\n",
        "plt.legend()\n",
        "plt.show()\n"
      ],
      "metadata": {
        "colab": {
          "base_uri": "https://localhost:8080/",
          "height": 472
        },
        "id": "APEHm9M5rx_r",
        "outputId": "5c465222-d2f0-49c5-d85f-bb1734e9e9d9"
      },
      "execution_count": 48,
      "outputs": [
        {
          "output_type": "display_data",
          "data": {
            "text/plain": [
              "<Figure size 640x480 with 1 Axes>"
            ],
            "image/png": "[encoded data removed]"
          },
          "metadata": {}
        }
      ]
    },
    {
      "cell_type": "markdown",
      "source": [
        "# saving a model in pytorch\n"
      ],
      "metadata": {
        "id": "qgtJYw6s-BfF"
      }
    },
    {
      "cell_type": "code",
      "source": [
        "\"\"\"torch.save()- allows to save a pytorch object in python's pickle format\n",
        "  torch.load()- load a saved pytorch object\n",
        "  torch.nn.Module.load_state_dict()- allows to load a model's saved state dictionary\n",
        " \"\"\"\n",
        "from pathlib import Path # saivng the Pytorch model\n",
        "\n",
        "\n",
        "# creating the models directory\n",
        "MODEL_PATH= Path(\"models\")\n",
        "MODEL_PATH.mkdir(parents=True, exist_ok=True)\n",
        "\n",
        "\n",
        "#2. Create the model save path\n",
        "MODEL_NAME= \"01_pytorch_workflow_model_0.pth\"\n",
        "MODEL_SAVE_PATH= MODEL_PATH/ MODEL_NAME\n",
        "\n",
        "#save the model state_dict\n",
        "print(f\"saving model to :{MODEL_SAVE_PATH}\")\n",
        "torch.save(obj=LinearRegressionModel.state_dict(), f=MODEL_SAVE_PATH)"
      ],
      "metadata": {
        "id": "1voHNmXF-DZk",
        "colab": {
          "base_uri": "https://localhost:8080/",
          "height": 193
        },
        "outputId": "fecf219a-5cba-4134-9a3b-a9ddd81bd7dc"
      },
      "execution_count": 49,
      "outputs": [
        {
          "output_type": "stream",
          "name": "stdout",
          "text": [
            "saving model to :models/01_pytorch_workflow_model_0.pth\n"
          ]
        },
        {
          "output_type": "error",
          "ename": "TypeError",
          "evalue": "Module.state_dict() missing 1 required positional argument: 'self'",
          "traceback": [
            "\u001b[0;31m---------------------------------------------------------------------------\u001b[0m",
            "\u001b[0;31mTypeError\u001b[0m                                 Traceback (most recent call last)",
            "\u001b[0;32m/tmp/ipython-input-2893457252.py\u001b[0m in \u001b[0;36m<cell line: 0>\u001b[0;34m()\u001b[0m\n\u001b[1;32m     17\u001b[0m \u001b[0;31m#save the model state_dict\u001b[0m\u001b[0;34m\u001b[0m\u001b[0;34m\u001b[0m\u001b[0m\n\u001b[1;32m     18\u001b[0m \u001b[0mprint\u001b[0m\u001b[0;34m(\u001b[0m\u001b[0;34mf\"saving model to :{MODEL_SAVE_PATH}\"\u001b[0m\u001b[0;34m)\u001b[0m\u001b[0;34m\u001b[0m\u001b[0;34m\u001b[0m\u001b[0m\n\u001b[0;32m---> 19\u001b[0;31m \u001b[0mtorch\u001b[0m\u001b[0;34m.\u001b[0m\u001b[0msave\u001b[0m\u001b[0;34m(\u001b[0m\u001b[0mobj\u001b[0m\u001b[0;34m=\u001b[0m\u001b[0mLinearRegressionModel\u001b[0m\u001b[0;34m.\u001b[0m\u001b[0mstate_dict\u001b[0m\u001b[0;34m(\u001b[0m\u001b[0;34m)\u001b[0m\u001b[0;34m,\u001b[0m \u001b[0mf\u001b[0m\u001b[0;34m=\u001b[0m\u001b[0mMODEL_SAVE_PATH\u001b[0m\u001b[0;34m)\u001b[0m\u001b[0;34m\u001b[0m\u001b[0;34m\u001b[0m\u001b[0m\n\u001b[0m",
            "\u001b[0;31mTypeError\u001b[0m: Module.state_dict() missing 1 required positional argument: 'self'"
          ]
        }
      ]
    },
    {
      "cell_type": "code",
      "source": [],
      "metadata": {
        "id": "Jx639Kng3GsI"
      },
      "execution_count": null,
      "outputs": []
    }
  ]
}